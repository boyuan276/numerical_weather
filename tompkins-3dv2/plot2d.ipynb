version https://git-lfs.github.com/spec/v1
oid sha256:3bd8821ba336f72160d6482fa3199f79459bc99d7443ff281b5e7ca2ecd1bb0d
size 246214
